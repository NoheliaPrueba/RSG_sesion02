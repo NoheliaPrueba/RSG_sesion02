{
  "nbformat": 4,
  "nbformat_minor": 0,
  "metadata": {
    "colab": {
      "name": "28.05.2022.ipynb",
      "provenance": [],
      "authorship_tag": "ABX9TyMYNFT3vPTk+w5awvX4uixu",
      "include_colab_link": true
    },
    "kernelspec": {
      "name": "python3",
      "display_name": "Python 3"
    },
    "language_info": {
      "name": "python"
    }
  },
  "cells": [
    {
      "cell_type": "markdown",
      "metadata": {
        "id": "view-in-github",
        "colab_type": "text"
      },
      "source": [
        "<a href=\"https://colab.research.google.com/github/NoheliaPrueba/RSG_sesion02/blob/main/28_05_2022.ipynb\" target=\"_parent\"><img src=\"https://colab.research.google.com/assets/colab-badge.svg\" alt=\"Open In Colab\"/></a>"
      ]
    },
    {
      "cell_type": "code",
      "execution_count": null,
      "metadata": {
        "colab": {
          "base_uri": "https://localhost:8080/"
        },
        "id": "Itje3Bz4Uuw5",
        "outputId": "32644489-333a-4ad0-b3b4-0d1e0f3190ff"
      },
      "outputs": [
        {
          "output_type": "stream",
          "name": "stdout",
          "text": [
            "Looking in indexes: https://pypi.org/simple, https://us-python.pkg.dev/colab-wheels/public/simple/\n",
            "Collecting dna_features_viewer\n",
            "  Downloading dna_features_viewer-3.1.1-py3-none-any.whl (30 kB)\n",
            "Requirement already satisfied: packaging in /usr/local/lib/python3.7/dist-packages (from dna_features_viewer) (21.3)\n",
            "Requirement already satisfied: matplotlib>=3 in /usr/local/lib/python3.7/dist-packages (from dna_features_viewer) (3.2.2)\n",
            "Collecting Biopython\n",
            "  Downloading biopython-1.79-cp37-cp37m-manylinux_2_5_x86_64.manylinux1_x86_64.whl (2.3 MB)\n",
            "\u001b[K     |████████████████████████████████| 2.3 MB 7.4 MB/s \n",
            "\u001b[?25hRequirement already satisfied: numpy>=1.11 in /usr/local/lib/python3.7/dist-packages (from matplotlib>=3->dna_features_viewer) (1.21.6)\n",
            "Requirement already satisfied: python-dateutil>=2.1 in /usr/local/lib/python3.7/dist-packages (from matplotlib>=3->dna_features_viewer) (2.8.2)\n",
            "Requirement already satisfied: pyparsing!=2.0.4,!=2.1.2,!=2.1.6,>=2.0.1 in /usr/local/lib/python3.7/dist-packages (from matplotlib>=3->dna_features_viewer) (3.0.9)\n",
            "Requirement already satisfied: kiwisolver>=1.0.1 in /usr/local/lib/python3.7/dist-packages (from matplotlib>=3->dna_features_viewer) (1.4.2)\n",
            "Requirement already satisfied: cycler>=0.10 in /usr/local/lib/python3.7/dist-packages (from matplotlib>=3->dna_features_viewer) (0.11.0)\n",
            "Requirement already satisfied: typing-extensions in /usr/local/lib/python3.7/dist-packages (from kiwisolver>=1.0.1->matplotlib>=3->dna_features_viewer) (4.2.0)\n",
            "Requirement already satisfied: six>=1.5 in /usr/local/lib/python3.7/dist-packages (from python-dateutil>=2.1->matplotlib>=3->dna_features_viewer) (1.15.0)\n",
            "Installing collected packages: Biopython, dna-features-viewer\n",
            "Successfully installed Biopython-1.79 dna-features-viewer-3.1.1\n"
          ]
        }
      ],
      "source": [
        "pip install dna_features_viewer"
      ]
    },
    {
      "cell_type": "code",
      "source": [
        "import dna_features_viewer\n"
      ],
      "metadata": {
        "id": "U_EaFZ2vVbTX"
      },
      "execution_count": null,
      "outputs": []
    },
    {
      "cell_type": "code",
      "source": [
        "from dna_features_viewer import GraphicFeature, GraphicRecord, CircularGraphicRecord"
      ],
      "metadata": {
        "id": "SAA5RJcoXftQ"
      },
      "execution_count": 31,
      "outputs": []
    },
    {
      "cell_type": "code",
      "source": [
        ""
      ],
      "metadata": {
        "id": "MyOfV0MLXlXO"
      },
      "execution_count": null,
      "outputs": []
    },
    {
      "cell_type": "code",
      "source": [
        "partes = [GraphicFeature(star = 0, end = 500, strand = +1, \n",
        "                         color = \"green\", label = \"Gen1\")]\n",
        "graphic = GraphicRecord(sequence_length = 600, features = partes)\n",
        "graphic.plot(figure_width= 8)\n"
      ],
      "metadata": {
        "id": "OgEsFLScbQQe"
      },
      "execution_count": null,
      "outputs": []
    },
    {
      "cell_type": "code",
      "source": [
        "partes = [GraphicFeature(start = 10, end = 50, starnd = +1, color = \"Green\", label = \"promotor 1\"),\n",
        "          GraphicFeature(start = 50, end = 550, starnd = +1, color = \"Red\", label = \"gen 1\"),\n",
        "          GraphicFeature(start = 550, end = 600, starnd = +1, color = \"Yellow\", label = \"Terminador 1\"),\n",
        "          GraphicFeature(start = 800, end = 850, starnd = +1, color = \"Blue\", label = \"promotor 1\"),\n",
        "          GraphicFeature(start = 300, end = 800, starnd = +1, color = \"Green\", label = \"promotor 1\"),\n",
        "          GraphicFeature(start = 270, end = 300, starnd = +1, color = \"Green\", label = \"promotor 1\")]\n",
        "graphic = GraphicRecord(sequence_length = 1000, features = partes)\n",
        "graphic.plot (figure_width=8)"
      ],
      "metadata": {
        "id": "SR1zQbBQbd0a",
        "colab": {
          "base_uri": "https://localhost:8080/",
          "height": 358
        },
        "outputId": "d1c7915c-bbe2-4775-a946-876181026689"
      },
      "execution_count": 32,
      "outputs": [
        {
          "output_type": "execute_result",
          "data": {
            "text/plain": [
              "(<matplotlib.axes._subplots.AxesSubplot at 0x7f627d2cc990>,\n",
              " ({GF(Terminador 1, 550-600 ): 0,\n",
              "   GF(gen 1, 50-550 ): 0,\n",
              "   GF(promotor 1, 10-50 ): 0,\n",
              "   GF(promotor 1, 270-300 ): 1.0,\n",
              "   GF(promotor 1, 300-800 ): 1.0,\n",
              "   GF(promotor 1, 800-850 ): 0},\n",
              "  {GF(Terminador 1, 550-600 ): {'annotation_y': 2.0, 'feature_y': 0},\n",
              "   GF(promotor 1, 10-50 ): {'annotation_y': 1.0, 'feature_y': 0},\n",
              "   GF(promotor 1, 270-300 ): {'annotation_y': 2.0, 'feature_y': 1.0},\n",
              "   GF(promotor 1, 800-850 ): {'annotation_y': 2.0, 'feature_y': 0}}))"
            ]
          },
          "metadata": {},
          "execution_count": 32
        },
        {
          "output_type": "display_data",
          "data": {
            "text/plain": [
              "<Figure size 576x158.4 with 1 Axes>"
            ],
            "image/png": "[encoded data removed]"
          },
          "metadata": {}
        }
      ]
    }
  ]
}