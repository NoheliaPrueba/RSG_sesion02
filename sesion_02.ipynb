{
  "nbformat": 4,
  "nbformat_minor": 0,
  "metadata": {
    "colab": {
      "name": "sesion_02.ipynb",
      "provenance": [],
      "authorship_tag": "ABX9TyPCNI4dz1T8uq4IDB/zDPAj",
      "include_colab_link": true
    },
    "kernelspec": {
      "name": "python3",
      "display_name": "Python 3"
    },
    "language_info": {
      "name": "python"
    }
  },
  "cells": [
    {
      "cell_type": "markdown",
      "metadata": {
        "id": "view-in-github",
        "colab_type": "text"
      },
      "source": [
        "<a href=\"https://colab.research.google.com/github/NoheliaPrueba/RSG_sesion02/blob/main/sesion_02.ipynb\" target=\"_parent\"><img src=\"https://colab.research.google.com/assets/colab-badge.svg\" alt=\"Open In Colab\"/></a>"
      ]
    },
    {
      "cell_type": "code",
      "execution_count": null,
      "metadata": {
        "id": "t3F-Ld-kC03x"
      },
      "outputs": [],
      "source": [
        "# sesion 02"
      ]
    },
    {
      "cell_type": "code",
      "source": [
        "var1 = 123 #entero\n",
        "var2 = \"hola\" #string\n",
        "var3 = 0.345 #float\n",
        "var4 = True #boolean\n",
        "var5 = \"\" #vacia"
      ],
      "metadata": {
        "id": "KI4oxWbvC-dG"
      },
      "execution_count": 2,
      "outputs": []
    },
    {
      "cell_type": "code",
      "source": [
        "print(var2)"
      ],
      "metadata": {
        "colab": {
          "base_uri": "https://localhost:8080/"
        },
        "id": "32Exb8KaDo0Q",
        "outputId": "b437d205-dfe6-4184-af6f-6e4ceb05f58f"
      },
      "execution_count": 3,
      "outputs": [
        {
          "output_type": "stream",
          "name": "stdout",
          "text": [
            "hola\n"
          ]
        }
      ]
    },
    {
      "cell_type": "code",
      "source": [
        "type(var1)"
      ],
      "metadata": {
        "colab": {
          "base_uri": "https://localhost:8080/"
        },
        "id": "y30Z5XzhD3fz",
        "outputId": "d2fb1cde-4fcd-4854-f73a-56a8fd21a578"
      },
      "execution_count": 4,
      "outputs": [
        {
          "output_type": "execute_result",
          "data": {
            "text/plain": [
              "int"
            ]
          },
          "metadata": {},
          "execution_count": 4
        }
      ]
    },
    {
      "cell_type": "code",
      "source": [
        "type(var5)"
      ],
      "metadata": {
        "colab": {
          "base_uri": "https://localhost:8080/"
        },
        "id": "jp-Pcb0yD_DF",
        "outputId": "cf2af5ce-ea19-42c1-c7a2-26ef795e67a8"
      },
      "execution_count": 5,
      "outputs": [
        {
          "output_type": "execute_result",
          "data": {
            "text/plain": [
              "str"
            ]
          },
          "metadata": {},
          "execution_count": 5
        }
      ]
    },
    {
      "cell_type": "code",
      "source": [
        "type(var4)"
      ],
      "metadata": {
        "colab": {
          "base_uri": "https://localhost:8080/"
        },
        "id": "aV956eq4EEdN",
        "outputId": "463177df-eb04-403e-8499-a65679b33528"
      },
      "execution_count": 7,
      "outputs": [
        {
          "output_type": "execute_result",
          "data": {
            "text/plain": [
              "bool"
            ]
          },
          "metadata": {},
          "execution_count": 7
        }
      ]
    },
    {
      "cell_type": "code",
      "source": [
        "ADN = input(\"ingrese una secuencia de ADN\")\n"
      ],
      "metadata": {
        "colab": {
          "base_uri": "https://localhost:8080/"
        },
        "id": "iUTFMgW0ELQ4",
        "outputId": "ad21a566-00d3-4c6f-9240-f5b8a3071b87"
      },
      "execution_count": 9,
      "outputs": [
        {
          "name": "stdout",
          "output_type": "stream",
          "text": [
            "ingrese una secuencia de ADNATCGATCGATCGATCG\n"
          ]
        }
      ]
    },
    {
      "cell_type": "code",
      "source": [
        "print(ADN)"
      ],
      "metadata": {
        "colab": {
          "base_uri": "https://localhost:8080/"
        },
        "id": "EwVS1mwyEk3L",
        "outputId": "2efc6676-610e-4fd0-fd43-5596df906cc1"
      },
      "execution_count": 10,
      "outputs": [
        {
          "output_type": "stream",
          "name": "stdout",
          "text": [
            "ATCGATCGATCGATCG\n"
          ]
        }
      ]
    },
    {
      "cell_type": "code",
      "source": [
        "print(ADN.upper())\n"
      ],
      "metadata": {
        "colab": {
          "base_uri": "https://localhost:8080/"
        },
        "id": "jj3a-JwMEpUs",
        "outputId": "936d0dda-9c55-4e48-b35a-41e79afbaff7"
      },
      "execution_count": 13,
      "outputs": [
        {
          "output_type": "stream",
          "name": "stdout",
          "text": [
            "ATCGATCGATCGATCG\n"
          ]
        }
      ]
    },
    {
      "cell_type": "code",
      "source": [
        "print(ADN.lower())"
      ],
      "metadata": {
        "colab": {
          "base_uri": "https://localhost:8080/"
        },
        "id": "qe9f66aaE9Yf",
        "outputId": "32d84222-cf33-48bf-9497-4087612becd5"
      },
      "execution_count": 12,
      "outputs": [
        {
          "output_type": "stream",
          "name": "stdout",
          "text": [
            "atcgatcgatcgatcg\n"
          ]
        }
      ]
    },
    {
      "cell_type": "markdown",
      "source": [
        "print(ADN.replace(\"A\", \"T\").lower())"
      ],
      "metadata": {
        "id": "2XReNM39FHF1"
      }
    },
    {
      "cell_type": "code",
      "source": [
        "# operadores\n",
        "n1 = 124\n",
        "n2 = 22\n",
        "n3 = n1 + n2\n",
        "print(n3)"
      ],
      "metadata": {
        "colab": {
          "base_uri": "https://localhost:8080/"
        },
        "id": "a8IqNsYBFrXL",
        "outputId": "69d02d06-55c7-43e6-ddb7-0176084aa2fa"
      },
      "execution_count": 17,
      "outputs": [
        {
          "output_type": "stream",
          "name": "stdout",
          "text": [
            "146\n"
          ]
        }
      ]
    },
    {
      "cell_type": "code",
      "source": [
        "n4 = n1 - n2\n",
        "n5 = n1 * n2\n",
        "n6 = n1 / n2\n",
        "n7 = n1 ** n2\n",
        "n8 = n1 % n2\n",
        "print(n4)\n",
        "print(n5)\n",
        "print(n6)\n",
        "print(n7)\n",
        "print(n8)"
      ],
      "metadata": {
        "colab": {
          "base_uri": "https://localhost:8080/"
        },
        "id": "QoYuGfbAGDpD",
        "outputId": "0975424c-3631-4805-b625-2e0ea91aa591"
      },
      "execution_count": 20,
      "outputs": [
        {
          "output_type": "stream",
          "name": "stdout",
          "text": [
            "102\n",
            "2728\n",
            "5.636363636363637\n",
            "11357351671193289727579045126462565595140325376\n",
            "14\n"
          ]
        }
      ]
    },
    {
      "cell_type": "code",
      "source": [
        "numT = ADN.count(\"T\")\n",
        "print(ADN)\n",
        "print(numT)"
      ],
      "metadata": {
        "colab": {
          "base_uri": "https://localhost:8080/"
        },
        "id": "AzG7LPj5Fc5H",
        "outputId": "7748ac18-2cbf-42a1-8323-1f87d7b2eee0"
      },
      "execution_count": 23,
      "outputs": [
        {
          "output_type": "stream",
          "name": "stdout",
          "text": [
            "ATCGATCGATCGATCG\n",
            "4\n"
          ]
        }
      ]
    },
    {
      "cell_type": "code",
      "source": [
        "length = len(ADN)\n",
        "print(ADN)\n",
        "print(length)"
      ],
      "metadata": {
        "colab": {
          "base_uri": "https://localhost:8080/"
        },
        "id": "pMC6EgQOHQnT",
        "outputId": "7775e605-5c45-4e5f-b25a-164755a4a302"
      },
      "execution_count": 24,
      "outputs": [
        {
          "output_type": "stream",
          "name": "stdout",
          "text": [
            "ATCGATCGATCGATCG\n",
            "16\n"
          ]
        }
      ]
    },
    {
      "cell_type": "code",
      "source": [
        "# Porcentaje de Timinas que tiene una secuencia\n",
        "\n",
        "DNA = \"ATCGTTGGATCGAAATTGGCCGTGTACACTG\"\n",
        "numT = DNA.count(\"T\")\n",
        "length = len(DNA)\n",
        "porcentajeT = numT/length*100\n",
        "\n",
        "print(\"Hay\", numT, \"Timinas\")\n",
        "print(\"Hay\", length, \"caracteres en total\")\n",
        "print(\"El porcentaje de Timinas es\", round(porcentajeT, 2), \"%\")"
      ],
      "metadata": {
        "colab": {
          "base_uri": "https://localhost:8080/"
        },
        "id": "OCOXDNirHjtD",
        "outputId": "c3463283-499e-4eeb-b9a8-433aaad6ef43"
      },
      "execution_count": 34,
      "outputs": [
        {
          "output_type": "stream",
          "name": "stdout",
          "text": [
            "Hay 9 Timinas\n",
            "Hay 31 caracteres en total\n",
            "El porcentaje de Timinas es 29.03 %\n"
          ]
        }
      ]
    },
    {
      "cell_type": "code",
      "source": [
        "# Ejercicio 01: Script que devuelve una secuencia que se ingresó cn anterioridad y también la longitud y porcentaje de cada base.\n",
        "\n",
        "DNA = input(\"Ingrese una secuencia:\")\n",
        "DNA = DNA.upper().replace(\" \", \"\")\n",
        "length = len(DNA)\n",
        "pT = DNA.count(\"T\")/length*100\n",
        "pA = DNA.count(\"A\")/length*100\n",
        "pC = DNA.count(\"C\")/length*100\n",
        "pG = DNA.count(\"G\")/length*100\n",
        "\n",
        "print(\"La secuencia es\",DNA)\n",
        "print(\"El tamaño de la secuencia es\", length)\n",
        "print(\"El porcenta de Timinas es\", round(pT, 2), \"%\")\n",
        "print(\"El porcenta de Adeninas es\", round(pA, 2), \"%\")\n",
        "print(\"El porcenta de C es\", round(pC, 2), \"%\")\n",
        "print(\"El porcenta de G es\", round(pG, 2), \"%\")\n"
      ],
      "metadata": {
        "colab": {
          "base_uri": "https://localhost:8080/"
        },
        "id": "2yksaLqWJkRO",
        "outputId": "36cb018e-4417-4632-d3d4-dc43f25bbf23"
      },
      "execution_count": 38,
      "outputs": [
        {
          "output_type": "stream",
          "name": "stdout",
          "text": [
            "Ingrese una secuencia:ACTGtgcacgtacgtGTAGT CGATGTCA  CGAT ACtgtcacacgcgata\n",
            "La secuencia es ACTGTGCACGTACGTGTAGTCGATGTCACGATACTGTCACACGCGATA\n",
            "El tamaño de la secuencia es 48\n",
            "El porcenta de Timinas es 25.0 %\n",
            "El porcenta de Adeninas es 25.0 %\n",
            "El porcenta de C es 25.0 %\n",
            "El porcenta de G es 25.0 %\n"
          ]
        }
      ]
    },
    {
      "cell_type": "code",
      "source": [
        ""
      ],
      "metadata": {
        "id": "6clpuHGeITmt"
      },
      "execution_count": null,
      "outputs": []
    }
  ]
}